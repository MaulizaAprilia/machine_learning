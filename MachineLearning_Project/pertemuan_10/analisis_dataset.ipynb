{
 "cells": [
  {
   "cell_type": "code",
   "execution_count": 15,
   "id": "08c09cc7",
   "metadata": {},
   "outputs": [
    {
     "ename": "AttributeError",
     "evalue": "module 'matplotlib' has no attribute 'rcParams'",
     "output_type": "error",
     "traceback": [
      "\u001b[1;31m---------------------------------------------------------------------------\u001b[0m",
      "\u001b[1;31mAttributeError\u001b[0m                            Traceback (most recent call last)",
      "Cell \u001b[1;32mIn[15], line 3\u001b[0m\n\u001b[0;32m      1\u001b[0m \u001b[38;5;28;01mimport\u001b[39;00m \u001b[38;5;21;01mpandas\u001b[39;00m \u001b[38;5;28;01mas\u001b[39;00m \u001b[38;5;21;01mpd\u001b[39;00m\n\u001b[0;32m      2\u001b[0m \u001b[38;5;28;01mimport\u001b[39;00m \u001b[38;5;21;01mnumpy\u001b[39;00m \u001b[38;5;28;01mas\u001b[39;00m \u001b[38;5;21;01mnp\u001b[39;00m\n\u001b[1;32m----> 3\u001b[0m \u001b[38;5;28;01mimport\u001b[39;00m \u001b[38;5;21;01mmatplotlib\u001b[39;00m\u001b[38;5;21;01m.\u001b[39;00m\u001b[38;5;21;01mpyplot\u001b[39;00m \u001b[38;5;28;01mas\u001b[39;00m \u001b[38;5;21;01mplt\u001b[39;00m\n\u001b[0;32m      4\u001b[0m \u001b[38;5;28;01mimport\u001b[39;00m \u001b[38;5;21;01mseaborn\u001b[39;00m \u001b[38;5;28;01mas\u001b[39;00m \u001b[38;5;21;01msns\u001b[39;00m\n\u001b[0;32m      6\u001b[0m \u001b[38;5;66;03m# Membaca dataset\u001b[39;00m\n",
      "File \u001b[1;32mc:\\Users\\Asus\\anaconda3\\Lib\\site-packages\\matplotlib\\pyplot.py:57\u001b[0m\n\u001b[0;32m     55\u001b[0m \u001b[38;5;28;01mfrom\u001b[39;00m \u001b[38;5;21;01mcycler\u001b[39;00m \u001b[38;5;28;01mimport\u001b[39;00m cycler  \u001b[38;5;66;03m# noqa: F401\u001b[39;00m\n\u001b[0;32m     56\u001b[0m \u001b[38;5;28;01mimport\u001b[39;00m \u001b[38;5;21;01mmatplotlib\u001b[39;00m\n\u001b[1;32m---> 57\u001b[0m \u001b[38;5;28;01mimport\u001b[39;00m \u001b[38;5;21;01mmatplotlib\u001b[39;00m\u001b[38;5;21;01m.\u001b[39;00m\u001b[38;5;21;01mcolorbar\u001b[39;00m\n\u001b[0;32m     58\u001b[0m \u001b[38;5;28;01mimport\u001b[39;00m \u001b[38;5;21;01mmatplotlib\u001b[39;00m\u001b[38;5;21;01m.\u001b[39;00m\u001b[38;5;21;01mimage\u001b[39;00m\n\u001b[0;32m     59\u001b[0m \u001b[38;5;28;01mfrom\u001b[39;00m \u001b[38;5;21;01mmatplotlib\u001b[39;00m \u001b[38;5;28;01mimport\u001b[39;00m _api\n",
      "File \u001b[1;32mc:\\Users\\Asus\\anaconda3\\Lib\\site-packages\\matplotlib\\colorbar.py:19\u001b[0m\n\u001b[0;32m     16\u001b[0m \u001b[38;5;28;01mimport\u001b[39;00m \u001b[38;5;21;01mnumpy\u001b[39;00m \u001b[38;5;28;01mas\u001b[39;00m \u001b[38;5;21;01mnp\u001b[39;00m\n\u001b[0;32m     18\u001b[0m \u001b[38;5;28;01mimport\u001b[39;00m \u001b[38;5;21;01mmatplotlib\u001b[39;00m \u001b[38;5;28;01mas\u001b[39;00m \u001b[38;5;21;01mmpl\u001b[39;00m\n\u001b[1;32m---> 19\u001b[0m \u001b[38;5;28;01mfrom\u001b[39;00m \u001b[38;5;21;01mmatplotlib\u001b[39;00m \u001b[38;5;28;01mimport\u001b[39;00m _api, cbook, collections, cm, colors, contour, ticker\n\u001b[0;32m     20\u001b[0m \u001b[38;5;28;01mimport\u001b[39;00m \u001b[38;5;21;01mmatplotlib\u001b[39;00m\u001b[38;5;21;01m.\u001b[39;00m\u001b[38;5;21;01martist\u001b[39;00m \u001b[38;5;28;01mas\u001b[39;00m \u001b[38;5;21;01mmartist\u001b[39;00m\n\u001b[0;32m     21\u001b[0m \u001b[38;5;28;01mimport\u001b[39;00m \u001b[38;5;21;01mmatplotlib\u001b[39;00m\u001b[38;5;21;01m.\u001b[39;00m\u001b[38;5;21;01mpatches\u001b[39;00m \u001b[38;5;28;01mas\u001b[39;00m \u001b[38;5;21;01mmpatches\u001b[39;00m\n",
      "File \u001b[1;32mc:\\Users\\Asus\\anaconda3\\Lib\\site-packages\\matplotlib\\collections.py:21\u001b[0m\n\u001b[0;32m     18\u001b[0m \u001b[38;5;28;01mimport\u001b[39;00m \u001b[38;5;21;01mnumpy\u001b[39;00m \u001b[38;5;28;01mas\u001b[39;00m \u001b[38;5;21;01mnp\u001b[39;00m\n\u001b[0;32m     20\u001b[0m \u001b[38;5;28;01mimport\u001b[39;00m \u001b[38;5;21;01mmatplotlib\u001b[39;00m \u001b[38;5;28;01mas\u001b[39;00m \u001b[38;5;21;01mmpl\u001b[39;00m\n\u001b[1;32m---> 21\u001b[0m \u001b[38;5;28;01mfrom\u001b[39;00m \u001b[38;5;21;01m.\u001b[39;00m \u001b[38;5;28;01mimport\u001b[39;00m (_api, _path, artist, cbook, colorizer \u001b[38;5;28;01mas\u001b[39;00m mcolorizer, colors \u001b[38;5;28;01mas\u001b[39;00m mcolors,\n\u001b[0;32m     22\u001b[0m                _docstring, hatch \u001b[38;5;28;01mas\u001b[39;00m mhatch, lines \u001b[38;5;28;01mas\u001b[39;00m mlines, path \u001b[38;5;28;01mas\u001b[39;00m mpath, transforms)\n\u001b[0;32m     23\u001b[0m \u001b[38;5;28;01mfrom\u001b[39;00m \u001b[38;5;21;01m.\u001b[39;00m\u001b[38;5;21;01m_enums\u001b[39;00m \u001b[38;5;28;01mimport\u001b[39;00m JoinStyle, CapStyle\n\u001b[0;32m     26\u001b[0m \u001b[38;5;66;03m# \"color\" is excluded; it is a compound setter, and its docstring differs\u001b[39;00m\n\u001b[0;32m     27\u001b[0m \u001b[38;5;66;03m# in LineCollection.\u001b[39;00m\n",
      "File \u001b[1;32mc:\\Users\\Asus\\anaconda3\\Lib\\site-packages\\matplotlib\\artist.py:1855\u001b[0m\n\u001b[0;32m   1849\u001b[0m     \u001b[38;5;28;01mreturn\u001b[39;00m (\u001b[38;5;124m'\u001b[39m\u001b[38;5;130;01m\\n\u001b[39;00m\u001b[38;5;124m'\u001b[39m\u001b[38;5;241m.\u001b[39mjoin(ai\u001b[38;5;241m.\u001b[39mpprint_setters_rest(leadingspace\u001b[38;5;241m=\u001b[39m\u001b[38;5;241m4\u001b[39m))\n\u001b[0;32m   1850\u001b[0m             \u001b[38;5;28;01mif\u001b[39;00m mpl\u001b[38;5;241m.\u001b[39mrcParams[\u001b[38;5;124m'\u001b[39m\u001b[38;5;124mdocstring.hardcopy\u001b[39m\u001b[38;5;124m'\u001b[39m] \u001b[38;5;28;01melse\u001b[39;00m\n\u001b[0;32m   1851\u001b[0m             \u001b[38;5;124m'\u001b[39m\u001b[38;5;124mProperties:\u001b[39m\u001b[38;5;130;01m\\n\u001b[39;00m\u001b[38;5;124m'\u001b[39m \u001b[38;5;241m+\u001b[39m \u001b[38;5;124m'\u001b[39m\u001b[38;5;130;01m\\n\u001b[39;00m\u001b[38;5;124m'\u001b[39m\u001b[38;5;241m.\u001b[39mjoin(ai\u001b[38;5;241m.\u001b[39mpprint_setters(leadingspace\u001b[38;5;241m=\u001b[39m\u001b[38;5;241m4\u001b[39m)))\n\u001b[0;32m   1853\u001b[0m \u001b[38;5;66;03m# We defer this to the end of them module, because it needs ArtistInspector\u001b[39;00m\n\u001b[0;32m   1854\u001b[0m \u001b[38;5;66;03m# to be defined.\u001b[39;00m\n\u001b[1;32m-> 1855\u001b[0m Artist\u001b[38;5;241m.\u001b[39m_update_set_signature_and_docstring()\n",
      "File \u001b[1;32mc:\\Users\\Asus\\anaconda3\\Lib\\site-packages\\matplotlib\\artist.py:177\u001b[0m, in \u001b[0;36mArtist._update_set_signature_and_docstring\u001b[1;34m(cls)\u001b[0m\n\u001b[0;32m    167\u001b[0m \u001b[38;5;28mcls\u001b[39m\u001b[38;5;241m.\u001b[39mset\u001b[38;5;241m.\u001b[39m__signature__ \u001b[38;5;241m=\u001b[39m Signature(\n\u001b[0;32m    168\u001b[0m     [Parameter(\u001b[38;5;124m\"\u001b[39m\u001b[38;5;124mself\u001b[39m\u001b[38;5;124m\"\u001b[39m, Parameter\u001b[38;5;241m.\u001b[39mPOSITIONAL_OR_KEYWORD),\n\u001b[0;32m    169\u001b[0m      \u001b[38;5;241m*\u001b[39m[Parameter(prop, Parameter\u001b[38;5;241m.\u001b[39mKEYWORD_ONLY, default\u001b[38;5;241m=\u001b[39m_UNSET)\n\u001b[0;32m    170\u001b[0m        \u001b[38;5;28;01mfor\u001b[39;00m prop \u001b[38;5;129;01min\u001b[39;00m ArtistInspector(\u001b[38;5;28mcls\u001b[39m)\u001b[38;5;241m.\u001b[39mget_setters()\n\u001b[0;32m    171\u001b[0m        \u001b[38;5;28;01mif\u001b[39;00m prop \u001b[38;5;129;01mnot\u001b[39;00m \u001b[38;5;129;01min\u001b[39;00m Artist\u001b[38;5;241m.\u001b[39m_PROPERTIES_EXCLUDED_FROM_SET]])\n\u001b[0;32m    172\u001b[0m \u001b[38;5;28mcls\u001b[39m\u001b[38;5;241m.\u001b[39mset\u001b[38;5;241m.\u001b[39m_autogenerated_signature \u001b[38;5;241m=\u001b[39m \u001b[38;5;28;01mTrue\u001b[39;00m\n\u001b[0;32m    174\u001b[0m \u001b[38;5;28mcls\u001b[39m\u001b[38;5;241m.\u001b[39mset\u001b[38;5;241m.\u001b[39m\u001b[38;5;18m__doc__\u001b[39m \u001b[38;5;241m=\u001b[39m (\n\u001b[0;32m    175\u001b[0m     \u001b[38;5;124m\"\u001b[39m\u001b[38;5;124mSet multiple properties at once.\u001b[39m\u001b[38;5;130;01m\\n\u001b[39;00m\u001b[38;5;130;01m\\n\u001b[39;00m\u001b[38;5;124m\"\u001b[39m\n\u001b[0;32m    176\u001b[0m     \u001b[38;5;124m\"\u001b[39m\u001b[38;5;124mSupported properties are\u001b[39m\u001b[38;5;130;01m\\n\u001b[39;00m\u001b[38;5;130;01m\\n\u001b[39;00m\u001b[38;5;124m\"\u001b[39m\n\u001b[1;32m--> 177\u001b[0m     \u001b[38;5;241m+\u001b[39m kwdoc(\u001b[38;5;28mcls\u001b[39m))\n",
      "File \u001b[1;32mc:\\Users\\Asus\\anaconda3\\Lib\\site-packages\\matplotlib\\artist.py:1850\u001b[0m, in \u001b[0;36mkwdoc\u001b[1;34m(artist)\u001b[0m\n\u001b[0;32m   1833\u001b[0m \u001b[38;5;250m\u001b[39m\u001b[38;5;124mr\u001b[39m\u001b[38;5;124;03m\"\"\"\u001b[39;00m\n\u001b[0;32m   1834\u001b[0m \u001b[38;5;124;03mInspect an `~matplotlib.artist.Artist` class (using `.ArtistInspector`) and\u001b[39;00m\n\u001b[0;32m   1835\u001b[0m \u001b[38;5;124;03mreturn information about its settable properties and their current values.\u001b[39;00m\n\u001b[1;32m   (...)\u001b[0m\n\u001b[0;32m   1846\u001b[0m \u001b[38;5;124;03m    use in Sphinx) if it is True.\u001b[39;00m\n\u001b[0;32m   1847\u001b[0m \u001b[38;5;124;03m\"\"\"\u001b[39;00m\n\u001b[0;32m   1848\u001b[0m ai \u001b[38;5;241m=\u001b[39m ArtistInspector(artist)\n\u001b[0;32m   1849\u001b[0m \u001b[38;5;28;01mreturn\u001b[39;00m (\u001b[38;5;124m'\u001b[39m\u001b[38;5;130;01m\\n\u001b[39;00m\u001b[38;5;124m'\u001b[39m\u001b[38;5;241m.\u001b[39mjoin(ai\u001b[38;5;241m.\u001b[39mpprint_setters_rest(leadingspace\u001b[38;5;241m=\u001b[39m\u001b[38;5;241m4\u001b[39m))\n\u001b[1;32m-> 1850\u001b[0m         \u001b[38;5;28;01mif\u001b[39;00m mpl\u001b[38;5;241m.\u001b[39mrcParams[\u001b[38;5;124m'\u001b[39m\u001b[38;5;124mdocstring.hardcopy\u001b[39m\u001b[38;5;124m'\u001b[39m] \u001b[38;5;28;01melse\u001b[39;00m\n\u001b[0;32m   1851\u001b[0m         \u001b[38;5;124m'\u001b[39m\u001b[38;5;124mProperties:\u001b[39m\u001b[38;5;130;01m\\n\u001b[39;00m\u001b[38;5;124m'\u001b[39m \u001b[38;5;241m+\u001b[39m \u001b[38;5;124m'\u001b[39m\u001b[38;5;130;01m\\n\u001b[39;00m\u001b[38;5;124m'\u001b[39m\u001b[38;5;241m.\u001b[39mjoin(ai\u001b[38;5;241m.\u001b[39mpprint_setters(leadingspace\u001b[38;5;241m=\u001b[39m\u001b[38;5;241m4\u001b[39m)))\n",
      "\u001b[1;31mAttributeError\u001b[0m: module 'matplotlib' has no attribute 'rcParams'"
     ]
    }
   ],
   "source": [
    "import pandas as pd\n",
    "import numpy as np\n",
    "import matplotlib.pyplot as plt\n",
    "import seaborn as sns\n",
    "\n",
    "# Membaca dataset\n",
    "df = pd.read_csv('data.csv')\n",
    "\n",
    "# Melihat struktur data\n",
    "print(\"Shape of the dataset:\", df.shape)\n",
    "print(\"\\nInfo about the dataset:\")\n",
    "print(df.info())\n",
    "\n",
    "# Melihat data sekilas\n",
    "print(\"\\nFirst few rows of the dataset:\")\n",
    "print(df.head())\n",
    "print(\"\\nStatistical summary of the dataset:\")\n",
    "print(df.describe())\n",
    "\n",
    "# Visualisasi distribusi\n",
    "plt.figure(figsize=(10, 6))\n",
    "sns.histplot(df['Age'], bins=30, kde=True)\n",
    "plt.title('Distribusi Age')\n",
    "plt.xlabel('Age')\n",
    "plt.ylabel('Frequency')\n",
    "plt.show()\n",
    "\n",
    "# Visualisasi hubungan\n",
    "plt.figure(figsize=(10, 6))\n",
    "sns.scatterplot(x='Age', y='Income', data=df)\n",
    "plt.title('Hubungan Age dan Income')\n",
    "plt.xlabel('Age')\n",
    "plt.ylabel('Income')\n",
    "plt.show()\n",
    "\n",
    "# Visualisasi kategori\n",
    "plt.figure(figsize=(10, 6))\n",
    "sns.countplot(x='Gender', data=df)\n",
    "plt.title('Distribusi Gender')\n",
    "plt.xlabel('Gender')\n",
    "plt.ylabel('Count')\n",
    "plt.show()\n",
    "\n",
    "# Analisis statistik\n",
    "print(\"\\nCorrelation matrix:\")\n",
    "print(df.corr(numeric_only=True))\n",
    "\n",
    "# Mengidentifikasi missing values\n",
    "print(\"\\nMissing values in each column:\")\n",
    "print(df.isnull().sum())\n",
    "\n",
    "# Mengimputasi missing values dengan mean\n",
    "df['Age'].fillna(df['Age'].mean(), inplace=True)\n",
    "\n",
    "# Mengidentifikasi outliers dengan boxplot\n",
    "plt.figure(figsize=(10, 6))\n",
    "sns.boxplot(x=df['Age'])\n",
    "plt.title('Boxplot Age')\n",
    "plt.xlabel('Age')\n",
    "plt.show()\n",
    "\n",
    "# Normalisasi fitur numerik\n",
    "from sklearn.preprocessing import StandardScaler\n",
    "scaler = StandardScaler()\n",
    "df[['Age', 'Income']] = scaler.fit_transform(df[['Age', 'Income']])\n",
    "\n",
    "# Membuat fitur baru\n",
    "df['Age_Income_Ratio'] = df['Age'] / df['Income']\n",
    "df[['Age', 'Income']] = scaler.fit_transform(df[['Age', 'Income']])\n",
    "\n",
    "# Melihat data setelah preprocessing\n",
    "print(\"\\nFirst few rows of the dataset after preprocessing:\")\n",
    "print(df.head())"
   ]
  },
  {
   "cell_type": "code",
   "execution_count": 14,
   "id": "1f963f38",
   "metadata": {},
   "outputs": [
    {
     "name": "stdout",
     "output_type": "stream",
     "text": [
      "^C\n",
      "Note: you may need to restart the kernel to use updated packages.\n"
     ]
    }
   ],
   "source": [
    "pip uninstall matplotlib"
   ]
  },
  {
   "cell_type": "code",
   "execution_count": null,
   "id": "376419d2",
   "metadata": {},
   "outputs": [],
   "source": [
    "pip install --upgrade pip"
   ]
  },
  {
   "cell_type": "code",
   "execution_count": null,
   "id": "eb1abdf4",
   "metadata": {},
   "outputs": [],
   "source": [
    "pip install matplotlib\n"
   ]
  },
  {
   "cell_type": "code",
   "execution_count": 12,
   "id": "2c1b6c3e",
   "metadata": {},
   "outputs": [
    {
     "name": "stdout",
     "output_type": "stream",
     "text": [
      "Collecting matplotlib\n",
      "  Downloading matplotlib-3.10.1-cp312-cp312-win_amd64.whl.metadata (11 kB)\n",
      "Collecting seaborn\n",
      "  Downloading seaborn-0.13.2-py3-none-any.whl.metadata (5.4 kB)\n",
      "Collecting contourpy>=1.0.1 (from matplotlib)\n",
      "  Downloading contourpy-1.3.2-cp312-cp312-win_amd64.whl.metadata (5.5 kB)\n",
      "Collecting cycler>=0.10 (from matplotlib)\n",
      "  Downloading cycler-0.12.1-py3-none-any.whl.metadata (3.8 kB)\n",
      "Collecting fonttools>=4.22.0 (from matplotlib)\n",
      "  Downloading fonttools-4.57.0-cp312-cp312-win_amd64.whl.metadata (104 kB)\n",
      "     ---------------------------------------- 0.0/104.6 kB ? eta -:--:--\n",
      "     ---------- -------------------------- 30.7/104.6 kB 660.6 kB/s eta 0:00:01\n",
      "     -------------------------------------  102.4/104.6 kB 1.2 MB/s eta 0:00:01\n",
      "     -------------------------------------- 104.6/104.6 kB 1.2 MB/s eta 0:00:00\n",
      "Collecting kiwisolver>=1.3.1 (from matplotlib)\n",
      "  Downloading kiwisolver-1.4.8-cp312-cp312-win_amd64.whl.metadata (6.3 kB)\n",
      "Requirement already satisfied: numpy>=1.23 in c:\\users\\asus\\anaconda3\\lib\\site-packages (from matplotlib) (2.2.4)\n",
      "Requirement already satisfied: packaging>=20.0 in c:\\users\\asus\\anaconda3\\lib\\site-packages (from matplotlib) (23.2)\n",
      "Requirement already satisfied: pillow>=8 in c:\\users\\asus\\anaconda3\\lib\\site-packages (from matplotlib) (10.3.0)\n",
      "Collecting pyparsing>=2.3.1 (from matplotlib)\n",
      "  Downloading pyparsing-3.2.3-py3-none-any.whl.metadata (5.0 kB)\n",
      "Requirement already satisfied: python-dateutil>=2.7 in c:\\users\\asus\\anaconda3\\lib\\site-packages (from matplotlib) (2.9.0.post0)\n",
      "Requirement already satisfied: pandas>=1.2 in c:\\users\\asus\\anaconda3\\lib\\site-packages (from seaborn) (2.2.3)\n",
      "Requirement already satisfied: pytz>=2020.1 in c:\\users\\asus\\anaconda3\\lib\\site-packages (from pandas>=1.2->seaborn) (2024.1)\n",
      "Requirement already satisfied: tzdata>=2022.7 in c:\\users\\asus\\anaconda3\\lib\\site-packages (from pandas>=1.2->seaborn) (2025.2)\n",
      "Requirement already satisfied: six>=1.5 in c:\\users\\asus\\anaconda3\\lib\\site-packages (from python-dateutil>=2.7->matplotlib) (1.16.0)\n",
      "Downloading matplotlib-3.10.1-cp312-cp312-win_amd64.whl (8.1 MB)\n",
      "   ---------------------------------------- 0.0/8.1 MB ? eta -:--:--\n",
      "    --------------------------------------- 0.1/8.1 MB 7.5 MB/s eta 0:00:02\n",
      "    --------------------------------------- 0.1/8.1 MB 7.5 MB/s eta 0:00:02\n",
      "   - -------------------------------------- 0.2/8.1 MB 2.2 MB/s eta 0:00:04\n",
      "   - -------------------------------------- 0.4/8.1 MB 2.6 MB/s eta 0:00:03\n",
      "   -- ------------------------------------- 0.5/8.1 MB 2.4 MB/s eta 0:00:04\n",
      "   --- ------------------------------------ 0.7/8.1 MB 2.8 MB/s eta 0:00:03\n",
      "   ----- ---------------------------------- 1.0/8.1 MB 3.5 MB/s eta 0:00:03\n",
      "   ------ --------------------------------- 1.3/8.1 MB 3.9 MB/s eta 0:00:02\n",
      "   -------- ------------------------------- 1.6/8.1 MB 4.1 MB/s eta 0:00:02\n",
      "   --------- ------------------------------ 2.0/8.1 MB 4.5 MB/s eta 0:00:02\n",
      "   ----------- ---------------------------- 2.3/8.1 MB 4.7 MB/s eta 0:00:02\n",
      "   ------------- -------------------------- 2.6/8.1 MB 4.9 MB/s eta 0:00:02\n",
      "   -------------- ------------------------- 3.0/8.1 MB 5.1 MB/s eta 0:00:01\n",
      "   ---------------- ----------------------- 3.3/8.1 MB 5.2 MB/s eta 0:00:01\n",
      "   ------------------ --------------------- 3.6/8.1 MB 5.4 MB/s eta 0:00:01\n",
      "   ------------------- -------------------- 3.9/8.1 MB 5.4 MB/s eta 0:00:01\n",
      "   -------------------- ------------------- 4.2/8.1 MB 5.5 MB/s eta 0:00:01\n",
      "   ---------------------- ----------------- 4.6/8.1 MB 5.6 MB/s eta 0:00:01\n",
      "   ----------------------- ---------------- 4.8/8.1 MB 5.6 MB/s eta 0:00:01\n",
      "   ------------------------- -------------- 5.2/8.1 MB 5.7 MB/s eta 0:00:01\n",
      "   --------------------------- ------------ 5.5/8.1 MB 5.8 MB/s eta 0:00:01\n",
      "   ---------------------------- ----------- 5.8/8.1 MB 5.8 MB/s eta 0:00:01\n",
      "   ------------------------------ --------- 6.1/8.1 MB 5.8 MB/s eta 0:00:01\n",
      "   ------------------------------- -------- 6.4/8.1 MB 5.9 MB/s eta 0:00:01\n",
      "   --------------------------------- ------ 6.7/8.1 MB 5.9 MB/s eta 0:00:01\n",
      "   ---------------------------------- ----- 7.1/8.1 MB 5.9 MB/s eta 0:00:01\n",
      "   ------------------------------------ --- 7.4/8.1 MB 6.0 MB/s eta 0:00:01\n",
      "   -------------------------------------- - 7.7/8.1 MB 6.0 MB/s eta 0:00:01\n",
      "   ---------------------------------------  8.0/8.1 MB 6.1 MB/s eta 0:00:01\n",
      "   ---------------------------------------- 8.1/8.1 MB 6.0 MB/s eta 0:00:00\n",
      "Downloading seaborn-0.13.2-py3-none-any.whl (294 kB)\n",
      "   ---------------------------------------- 0.0/294.9 kB ? eta -:--:--\n",
      "   ---------------------------------------- 0.0/294.9 kB ? eta -:--:--\n",
      "   - -------------------------------------- 10.2/294.9 kB ? eta -:--:--\n",
      "   -------------------- ------------------- 153.6/294.9 kB 1.5 MB/s eta 0:00:01\n",
      "   ---------------------------------------- 294.9/294.9 kB 2.3 MB/s eta 0:00:00\n",
      "Downloading contourpy-1.3.2-cp312-cp312-win_amd64.whl (223 kB)\n",
      "   ---------------------------------------- 0.0/223.0 kB ? eta -:--:--\n",
      "   -------------------------------------- - 215.0/223.0 kB 6.6 MB/s eta 0:00:01\n",
      "   ---------------------------------------- 223.0/223.0 kB 4.5 MB/s eta 0:00:00\n",
      "Downloading cycler-0.12.1-py3-none-any.whl (8.3 kB)\n",
      "Downloading fonttools-4.57.0-cp312-cp312-win_amd64.whl (2.2 MB)\n",
      "   ---------------------------------------- 0.0/2.2 MB ? eta -:--:--\n",
      "   -- ------------------------------------- 0.1/2.2 MB 7.0 MB/s eta 0:00:01\n",
      "   ------- -------------------------------- 0.4/2.2 MB 6.2 MB/s eta 0:00:01\n",
      "   ------------ --------------------------- 0.7/2.2 MB 6.1 MB/s eta 0:00:01\n",
      "   ---------------- ----------------------- 0.9/2.2 MB 5.6 MB/s eta 0:00:01\n",
      "   ---------------------- ----------------- 1.2/2.2 MB 6.0 MB/s eta 0:00:01\n",
      "   --------------------------- ------------ 1.5/2.2 MB 5.9 MB/s eta 0:00:01\n",
      "   -------------------------------- ------- 1.8/2.2 MB 5.9 MB/s eta 0:00:01\n",
      "   ------------------------------------- -- 2.1/2.2 MB 6.0 MB/s eta 0:00:01\n",
      "   ---------------------------------------- 2.2/2.2 MB 5.8 MB/s eta 0:00:00\n",
      "Downloading kiwisolver-1.4.8-cp312-cp312-win_amd64.whl (71 kB)\n",
      "   ---------------------------------------- 0.0/71.9 kB ? eta -:--:--\n",
      "   ---------------------------------------- 71.9/71.9 kB 3.9 MB/s eta 0:00:00\n",
      "Downloading pyparsing-3.2.3-py3-none-any.whl (111 kB)\n",
      "   ---------------------------------------- 0.0/111.1 kB ? eta -:--:--\n",
      "   ---------------------------------------- 111.1/111.1 kB 3.2 MB/s eta 0:00:00\n",
      "Installing collected packages: pyparsing, kiwisolver, fonttools, cycler, contourpy, matplotlib, seaborn\n",
      "Successfully installed contourpy-1.3.2 cycler-0.12.1 fonttools-4.57.0 kiwisolver-1.4.8 matplotlib-3.10.1 pyparsing-3.2.3 seaborn-0.13.2\n",
      "Note: you may need to restart the kernel to use updated packages.\n"
     ]
    }
   ],
   "source": [
    "pip install matplotlib seaborn\n"
   ]
  },
  {
   "cell_type": "code",
   "execution_count": 5,
   "id": "93603710",
   "metadata": {},
   "outputs": [
    {
     "name": "stdout",
     "output_type": "stream",
     "text": [
      "Current working directory: d:\\SEMESTER 6\\Machine Learning\\MachineLearning_Project\\pertemuan_10\n"
     ]
    }
   ],
   "source": [
    "import os\n",
    "print(\"Current working directory:\", os.getcwd())\n",
    "\n"
   ]
  },
  {
   "cell_type": "code",
   "execution_count": null,
   "id": "6714c55b",
   "metadata": {},
   "outputs": [],
   "source": [
    "conda uninstall pandas\n",
    "conda clean --all\n",
    "conda install pandas\n",
    "\n"
   ]
  },
  {
   "cell_type": "code",
   "execution_count": 8,
   "id": "bb5af52e",
   "metadata": {},
   "outputs": [
    {
     "name": "stderr",
     "output_type": "stream",
     "text": [
      "WARNING: Skipping pandas as it is not installed.\n"
     ]
    }
   ],
   "source": [
    "!pip uninstall pandas\n",
    "\n"
   ]
  },
  {
   "cell_type": "code",
   "execution_count": 9,
   "id": "98b00359",
   "metadata": {},
   "outputs": [
    {
     "name": "stdout",
     "output_type": "stream",
     "text": [
      "Files removed: 20\n",
      "Note: you may need to restart the kernel to use updated packages.\n"
     ]
    }
   ],
   "source": [
    "pip cache purge"
   ]
  },
  {
   "cell_type": "code",
   "execution_count": 10,
   "id": "031e587a",
   "metadata": {},
   "outputs": [
    {
     "name": "stdout",
     "output_type": "stream",
     "text": [
      "Collecting pandas\n",
      "  Downloading pandas-2.2.3-cp312-cp312-win_amd64.whl.metadata (19 kB)\n",
      "Requirement already satisfied: numpy>=1.26.0 in c:\\users\\asus\\anaconda3\\lib\\site-packages (from pandas) (2.2.4)\n",
      "Requirement already satisfied: python-dateutil>=2.8.2 in c:\\users\\asus\\anaconda3\\lib\\site-packages (from pandas) (2.9.0.post0)\n",
      "Requirement already satisfied: pytz>=2020.1 in c:\\users\\asus\\anaconda3\\lib\\site-packages (from pandas) (2024.1)\n",
      "Requirement already satisfied: tzdata>=2022.7 in c:\\users\\asus\\anaconda3\\lib\\site-packages (from pandas) (2025.2)\n",
      "Requirement already satisfied: six>=1.5 in c:\\users\\asus\\anaconda3\\lib\\site-packages (from python-dateutil>=2.8.2->pandas) (1.16.0)\n",
      "Downloading pandas-2.2.3-cp312-cp312-win_amd64.whl (11.5 MB)\n",
      "   ---------------------------------------- 0.0/11.5 MB ? eta -:--:--\n",
      "   ---------------------------------------- 0.0/11.5 MB ? eta -:--:--\n",
      "   ---------------------------------------- 0.0/11.5 MB 991.0 kB/s eta 0:00:12\n",
      "   ---------------------------------------- 0.1/11.5 MB 1.3 MB/s eta 0:00:09\n",
      "    --------------------------------------- 0.2/11.5 MB 2.0 MB/s eta 0:00:06\n",
      "   - -------------------------------------- 0.4/11.5 MB 2.4 MB/s eta 0:00:05\n",
      "   - -------------------------------------- 0.5/11.5 MB 2.4 MB/s eta 0:00:05\n",
      "   -- ------------------------------------- 0.8/11.5 MB 3.0 MB/s eta 0:00:04\n",
      "   --- ------------------------------------ 1.0/11.5 MB 3.4 MB/s eta 0:00:04\n",
      "   ---- ----------------------------------- 1.2/11.5 MB 3.5 MB/s eta 0:00:03\n",
      "   ----- ---------------------------------- 1.5/11.5 MB 3.8 MB/s eta 0:00:03\n",
      "   ----- ---------------------------------- 1.7/11.5 MB 3.9 MB/s eta 0:00:03\n",
      "   ------ --------------------------------- 1.9/11.5 MB 4.0 MB/s eta 0:00:03\n",
      "   ------- -------------------------------- 2.2/11.5 MB 4.0 MB/s eta 0:00:03\n",
      "   ------- -------------------------------- 2.2/11.5 MB 4.0 MB/s eta 0:00:03\n",
      "   -------- ------------------------------- 2.5/11.5 MB 4.0 MB/s eta 0:00:03\n",
      "   --------- ------------------------------ 2.7/11.5 MB 4.0 MB/s eta 0:00:03\n",
      "   ---------- ----------------------------- 3.0/11.5 MB 4.2 MB/s eta 0:00:03\n",
      "   ----------- ---------------------------- 3.3/11.5 MB 4.3 MB/s eta 0:00:02\n",
      "   ------------ --------------------------- 3.6/11.5 MB 4.4 MB/s eta 0:00:02\n",
      "   ------------- -------------------------- 3.8/11.5 MB 4.4 MB/s eta 0:00:02\n",
      "   ------------- -------------------------- 4.0/11.5 MB 4.4 MB/s eta 0:00:02\n",
      "   -------------- ------------------------- 4.1/11.5 MB 4.2 MB/s eta 0:00:02\n",
      "   --------------- ------------------------ 4.4/11.5 MB 4.4 MB/s eta 0:00:02\n",
      "   ---------------- ----------------------- 4.6/11.5 MB 4.4 MB/s eta 0:00:02\n",
      "   ---------------- ----------------------- 4.9/11.5 MB 4.5 MB/s eta 0:00:02\n",
      "   ------------------ --------------------- 5.2/11.5 MB 4.5 MB/s eta 0:00:02\n",
      "   ------------------- -------------------- 5.5/11.5 MB 4.7 MB/s eta 0:00:02\n",
      "   ------------------- -------------------- 5.6/11.5 MB 4.7 MB/s eta 0:00:02\n",
      "   ------------------- -------------------- 5.6/11.5 MB 4.3 MB/s eta 0:00:02\n",
      "   -------------------- ------------------- 5.9/11.5 MB 4.4 MB/s eta 0:00:02\n",
      "   --------------------- ------------------ 6.2/11.5 MB 4.5 MB/s eta 0:00:02\n",
      "   ---------------------- ----------------- 6.5/11.5 MB 4.6 MB/s eta 0:00:02\n",
      "   ----------------------- ---------------- 6.8/11.5 MB 4.6 MB/s eta 0:00:02\n",
      "   ------------------------ --------------- 7.2/11.5 MB 4.7 MB/s eta 0:00:01\n",
      "   ------------------------- -------------- 7.4/11.5 MB 4.7 MB/s eta 0:00:01\n",
      "   -------------------------- ------------- 7.7/11.5 MB 4.8 MB/s eta 0:00:01\n",
      "   --------------------------- ------------ 8.0/11.5 MB 4.8 MB/s eta 0:00:01\n",
      "   ---------------------------- ----------- 8.3/11.5 MB 4.9 MB/s eta 0:00:01\n",
      "   ------------------------------ --------- 8.7/11.5 MB 4.9 MB/s eta 0:00:01\n",
      "   ------------------------------- -------- 9.0/11.5 MB 5.0 MB/s eta 0:00:01\n",
      "   -------------------------------- ------- 9.3/11.5 MB 5.1 MB/s eta 0:00:01\n",
      "   --------------------------------- ------ 9.6/11.5 MB 5.1 MB/s eta 0:00:01\n",
      "   ---------------------------------- ----- 10.0/11.5 MB 5.2 MB/s eta 0:00:01\n",
      "   ----------------------------------- ---- 10.3/11.5 MB 5.3 MB/s eta 0:00:01\n",
      "   ------------------------------------ --- 10.6/11.5 MB 5.5 MB/s eta 0:00:01\n",
      "   -------------------------------------- - 11.0/11.5 MB 5.6 MB/s eta 0:00:01\n",
      "   ---------------------------------------  11.2/11.5 MB 5.6 MB/s eta 0:00:01\n",
      "   ---------------------------------------  11.5/11.5 MB 5.7 MB/s eta 0:00:01\n",
      "   ---------------------------------------- 11.5/11.5 MB 5.6 MB/s eta 0:00:00\n",
      "Installing collected packages: pandas\n",
      "Successfully installed pandas-2.2.3\n",
      "Note: you may need to restart the kernel to use updated packages.\n"
     ]
    }
   ],
   "source": [
    "pip install pandas"
   ]
  }
 ],
 "metadata": {
  "kernelspec": {
   "display_name": "base",
   "language": "python",
   "name": "python3"
  },
  "language_info": {
   "codemirror_mode": {
    "name": "ipython",
    "version": 3
   },
   "file_extension": ".py",
   "mimetype": "text/x-python",
   "name": "python",
   "nbconvert_exporter": "python",
   "pygments_lexer": "ipython3",
   "version": "3.12.4"
  }
 },
 "nbformat": 4,
 "nbformat_minor": 5
}
