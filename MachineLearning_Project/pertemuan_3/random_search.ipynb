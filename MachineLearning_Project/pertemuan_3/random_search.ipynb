{
 "cells": [
  {
   "cell_type": "code",
   "execution_count": null,
   "metadata": {},
   "outputs": [
    {
     "name": "stdout",
     "output_type": "stream",
     "text": [
      "Best  Parameters: {'n_estimators': np.int64(30), 'min_samples_split': 2, 'min_samples_leaf': 1, 'max_depth': np.int64(15)}\n",
      "Best  Score: 0.9666666666666668\n"
     ]
    },
    {
     "name": "stderr",
     "output_type": "stream",
     "text": [
      "C:\\Users\\Asus\\AppData\\Local\\Packages\\PythonSoftwareFoundation.Python.3.11_qbz5n2kfra8p0\\LocalCache\\local-packages\\Python311\\site-packages\\numpy\\ma\\core.py:2881: RuntimeWarning: invalid value encountered in cast\n",
      "  _data = np.array(data, dtype=dtype, copy=copy,\n"
     ]
    }
   ],
   "source": [
    "from sklearn.model_selection import RandomizedSearchCV \n",
    "from sklearn.ensemble import RandomForestClassifier \n",
    "from sklearn.datasets import load_iris \n",
    "import numpy as np \n",
    "\n",
    "iris = load_iris() \n",
    "X, y = iris.data, iris.target\n",
    "\n",
    "model = RandomForestClassifier() \n",
    "\n",
    "param_distributions = { 'n_estimators': np.arange(10, 200, 10), 'max_depth': \n",
    "np.arange(1, 20), 'min_samples_split': [2, 5, 10], 'min_samples_leaf': [1, 2, 4] \n",
    "} \n",
    "\n",
    "random_search = RandomizedSearchCV(model, param_distributions, n_iter=100, cv=5, \n",
    "scoring='accuracy', random_state=42) \n",
    "\n",
    "random_search.fit(X, y) \n",
    "\n",
    "print(\"Best  Parameters:\",  random_search.best_params_)  \n",
    "print(\"Best  Score:\", random_search.best_score_) \n",
    "\n"
   ]
  }
 ],
 "metadata": {
  "kernelspec": {
   "display_name": "Python 3",
   "language": "python",
   "name": "python3"
  },
  "language_info": {
   "codemirror_mode": {
    "name": "ipython",
    "version": 3
   },
   "file_extension": ".py",
   "mimetype": "text/x-python",
   "name": "python",
   "nbconvert_exporter": "python",
   "pygments_lexer": "ipython3",
   "version": "3.11.9"
  }
 },
 "nbformat": 4,
 "nbformat_minor": 2
}
