{
 "cells": [
  {
   "cell_type": "code",
   "execution_count": 1,
   "metadata": {},
   "outputs": [
    {
     "name": "stdout",
     "output_type": "stream",
     "text": [
      "Repeated K-Fold Cross-validation Mean Score: 0.9640000000000001\n"
     ]
    }
   ],
   "source": [
    "from sklearn.datasets import load_iris \n",
    "from sklearn.model_selection import KFold, cross_val_score \n",
    "from sklearn.linear_model import LogisticRegression \n",
    "\n",
    "# Memuat dataset Iris \n",
    "iris = load_iris() \n",
    "X = iris.data \n",
    "y = iris.target\n",
    "\n",
    "# Mengatur model \n",
    "model = LogisticRegression(max_iter=200)\n",
    "\n",
    "from sklearn.model_selection import RepeatedKFold \n",
    "# Mengatur Repeated K-Fold Cross-validation \n",
    "repeated_kfold = RepeatedKFold(n_splits=5, n_repeats=10, random_state=42)\n",
    " \n",
    "# Melakukan cross-validation dan menghitung skor \n",
    "repeated_scores = cross_val_score(model, X, y, cv=repeated_kfold) \n",
    "print(f'Repeated K-Fold Cross-validation Mean Score: {repeated_scores.mean()}') "
   ]
  }
 ],
 "metadata": {
  "kernelspec": {
   "display_name": "Python 3",
   "language": "python",
   "name": "python3"
  },
  "language_info": {
   "codemirror_mode": {
    "name": "ipython",
    "version": 3
   },
   "file_extension": ".py",
   "mimetype": "text/x-python",
   "name": "python",
   "nbconvert_exporter": "python",
   "pygments_lexer": "ipython3",
   "version": "3.11.9"
  }
 },
 "nbformat": 4,
 "nbformat_minor": 2
}
