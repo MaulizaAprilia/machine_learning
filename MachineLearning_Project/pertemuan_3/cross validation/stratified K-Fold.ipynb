{
 "cells": [
  {
   "cell_type": "code",
   "execution_count": 1,
   "metadata": {},
   "outputs": [
    {
     "name": "stdout",
     "output_type": "stream",
     "text": [
      "Stratified K-Fold Cross-validation Scores: [1.         0.96666667 0.93333333 1.         0.93333333]\n",
      "Mean Score: 0.9666666666666668\n"
     ]
    }
   ],
   "source": [
    "\n",
    "from sklearn.datasets import load_iris \n",
    "from sklearn.model_selection import KFold, cross_val_score \n",
    "from sklearn.linear_model import LogisticRegression \n",
    "\n",
    "# Memuat dataset Iris \n",
    "iris = load_iris() \n",
    "X = iris.data \n",
    "y = iris.target \n",
    "# Mengatur model \n",
    "model = LogisticRegression(max_iter=200)\n",
    "\n",
    "\n",
    "from sklearn.model_selection import StratifiedKFold \n",
    " \n",
    "# Mengatur Stratified K-Fold Cross-validation \n",
    "stratified_kfold = StratifiedKFold(n_splits=5, shuffle=True, random_state=42) \n",
    " \n",
    "# Melakukan cross-validation dan menghitung skor \n",
    "stratified_scores = cross_val_score(model, X, y, cv=stratified_kfold) \n",
    " \n",
    "print(f'Stratified K-Fold Cross-validation Scores: {stratified_scores}') \n",
    "print(f'Mean Score: {stratified_scores.mean()}') "
   ]
  }
 ],
 "metadata": {
  "kernelspec": {
   "display_name": "Python 3",
   "language": "python",
   "name": "python3"
  },
  "language_info": {
   "codemirror_mode": {
    "name": "ipython",
    "version": 3
   },
   "file_extension": ".py",
   "mimetype": "text/x-python",
   "name": "python",
   "nbconvert_exporter": "python",
   "pygments_lexer": "ipython3",
   "version": "3.11.9"
  }
 },
 "nbformat": 4,
 "nbformat_minor": 2
}
