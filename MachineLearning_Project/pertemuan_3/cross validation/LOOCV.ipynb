{
 "cells": [
  {
   "cell_type": "code",
   "execution_count": 2,
   "metadata": {},
   "outputs": [
    {
     "name": "stdout",
     "output_type": "stream",
     "text": [
      "Leave-One-Out Cross-validation Mean Score: 0.9666666666666667\n"
     ]
    }
   ],
   "source": [
    "\n",
    "from sklearn.datasets import load_iris \n",
    "from sklearn.model_selection import KFold, cross_val_score \n",
    "from sklearn.linear_model import LogisticRegression \n",
    "# Memuat dataset Iris \n",
    "iris = load_iris() \n",
    "X = iris.data \n",
    "y = iris.target \n",
    "# Mengatur model \n",
    "model = LogisticRegression(max_iter=200)\n",
    "\n",
    "from sklearn.model_selection import LeaveOneOut \n",
    " \n",
    "# Mengatur LOOCV \n",
    "loocv = LeaveOneOut() \n",
    " \n",
    "# Melakukan cross-validation dan menghitung skor \n",
    "loocv_scores = cross_val_score(model, X, y, cv=loocv) \n",
    " \n",
    "print(f'Leave-One-Out Cross-validation Mean Score: {loocv_scores.mean()}')"
   ]
  }
 ],
 "metadata": {
  "kernelspec": {
   "display_name": "Python 3",
   "language": "python",
   "name": "python3"
  },
  "language_info": {
   "codemirror_mode": {
    "name": "ipython",
    "version": 3
   },
   "file_extension": ".py",
   "mimetype": "text/x-python",
   "name": "python",
   "nbconvert_exporter": "python",
   "pygments_lexer": "ipython3",
   "version": "3.11.9"
  }
 },
 "nbformat": 4,
 "nbformat_minor": 2
}
