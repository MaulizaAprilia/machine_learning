{
 "cells": [
  {
   "cell_type": "code",
   "execution_count": 3,
   "metadata": {},
   "outputs": [
    {
     "name": "stdout",
     "output_type": "stream",
     "text": [
      "K-Fold Cross-validation Scores: [1.         1.         0.93333333 0.96666667 0.96666667]\n",
      "Mean Score: 0.9733333333333334\n"
     ]
    }
   ],
   "source": [
    "\n",
    "from sklearn.datasets import load_iris \n",
    "from sklearn.model_selection import KFold, cross_val_score \n",
    "from sklearn.linear_model import LogisticRegression \n",
    "\n",
    "# Memuat dataset Iris \n",
    "iris = load_iris() \n",
    "X = iris.data \n",
    "y = iris.target \n",
    "# Mengatur model \n",
    "model = LogisticRegression(max_iter=200)\n",
    "\n",
    "# Mengatur K-Fold Cross-validation \n",
    "kfold = KFold(n_splits=5, shuffle=True, random_state=42) \n",
    " \n",
    "# Melakukan cross-validation dan menghitung skor \n",
    "scores = cross_val_score(model, X, y, cv=kfold) \n",
    " \n",
    "print(f'K-Fold Cross-validation Scores: {scores}') \n",
    "print(f'Mean Score: {scores.mean()}') "
   ]
  }
 ],
 "metadata": {
  "kernelspec": {
   "display_name": "Python 3",
   "language": "python",
   "name": "python3"
  },
  "language_info": {
   "codemirror_mode": {
    "name": "ipython",
    "version": 3
   },
   "file_extension": ".py",
   "mimetype": "text/x-python",
   "name": "python",
   "nbconvert_exporter": "python",
   "pygments_lexer": "ipython3",
   "version": "3.11.9"
  }
 },
 "nbformat": 4,
 "nbformat_minor": 2
}
