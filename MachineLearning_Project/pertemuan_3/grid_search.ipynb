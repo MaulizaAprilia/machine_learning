{
 "cells": [
  {
   "cell_type": "code",
   "execution_count": 1,
   "metadata": {},
   "outputs": [
    {
     "name": "stdout",
     "output_type": "stream",
     "text": [
      "Best Parameters: {'C': 1, 'gamma': 0.1, 'kernel': 'rbf'}\n",
      "Best Score: 0.9800000000000001\n"
     ]
    }
   ],
   "source": [
    "\n",
    "from sklearn.model_selection import GridSearchCV \n",
    "from sklearn.svm import SVC \n",
    "from sklearn.datasets import load_iris \n",
    " \n",
    "# Load dataset \n",
    "iris = load_iris() \n",
    "X, y = iris.data, iris.target \n",
    " \n",
    "# Define the model \n",
    "model = SVC() \n",
    " \n",
    "# Define the parameter grid \n",
    "param_grid = { \n",
    "'C': [0.1, 1, 10, 100], \n",
    "'gamma': [1, 0.1, 0.01, 0.001], \n",
    "'kernel': ['rbf'] \n",
    "} \n",
    " \n",
    "# Initialize Grid Search \n",
    "grid_search = GridSearchCV(model, param_grid, cv=5, scoring='accuracy') \n",
    " \n",
    "# Fit Grid Search \n",
    "grid_search.fit(X, y) \n",
    " \n",
    "# Best parameters and best score \n",
    "print(\"Best Parameters:\", grid_search.best_params_) \n",
    "print(\"Best Score:\", grid_search.best_score_) "
   ]
  }
 ],
 "metadata": {
  "kernelspec": {
   "display_name": "Python 3",
   "language": "python",
   "name": "python3"
  },
  "language_info": {
   "codemirror_mode": {
    "name": "ipython",
    "version": 3
   },
   "file_extension": ".py",
   "mimetype": "text/x-python",
   "name": "python",
   "nbconvert_exporter": "python",
   "pygments_lexer": "ipython3",
   "version": "3.11.9"
  }
 },
 "nbformat": 4,
 "nbformat_minor": 2
}
