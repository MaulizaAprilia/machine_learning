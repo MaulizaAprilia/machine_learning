{
 "cells": [
  {
   "cell_type": "code",
   "execution_count": 3,
   "metadata": {},
   "outputs": [
    {
     "name": "stdout",
     "output_type": "stream",
     "text": [
      "Ukuran dataset: (5, 7)\n",
      "Nama              object\n",
      "Usia               int64\n",
      "Jenis Kelamin     object\n",
      "Jurusan           object\n",
      "Matematika         int64\n",
      "IPA                int64\n",
      "Bahasa Inggris     int64\n",
      "dtype: object\n",
      "Nama              0\n",
      "Usia              0\n",
      "Jenis Kelamin     0\n",
      "Jurusan           0\n",
      "Matematika        0\n",
      "IPA               0\n",
      "Bahasa Inggris    0\n",
      "dtype: int64\n",
      "         Nama      Usia Jenis Kelamin     Jurusan   Matematika        IPA  \\\n",
      "count       5   5.00000             5            5    5.000000   5.000000   \n",
      "unique      5       NaN             2            2         NaN        NaN   \n",
      "top     Alice       NaN     Perempuan  Informatika         NaN        NaN   \n",
      "freq        1       NaN             3            3         NaN        NaN   \n",
      "mean      NaN  20.80000           NaN          NaN   85.200000  87.000000   \n",
      "std       NaN   0.83666           NaN          NaN    5.449771   4.690416   \n",
      "min       NaN  20.00000           NaN          NaN   78.000000  80.000000   \n",
      "25%       NaN  20.00000           NaN          NaN   82.000000  85.000000   \n",
      "50%       NaN  21.00000           NaN          NaN   85.000000  88.000000   \n",
      "75%       NaN  21.00000           NaN          NaN   90.000000  90.000000   \n",
      "max       NaN  22.00000           NaN          NaN   91.000000  92.000000   \n",
      "\n",
      "        Bahasa Inggris  \n",
      "count         5.000000  \n",
      "unique             NaN  \n",
      "top                NaN  \n",
      "freq               NaN  \n",
      "mean         82.600000  \n",
      "std           6.465292  \n",
      "min          74.000000  \n",
      "25%          78.000000  \n",
      "50%          84.000000  \n",
      "75%          88.000000  \n",
      "max          89.000000  \n"
     ]
    }
   ],
   "source": [
    "import pandas as pd\n",
    "# Memuat dataset\n",
    "df = pd.read_csv('students.csv')\n",
    "# Menampilkan 5 baris pertama dataset\n",
    "df.head()\n",
    "\n",
    "# Memeriksa ukuran dataset\n",
    "print(f\"Ukuran dataset: {df.shape}\")\n",
    "# Memeriksa tipe data setiap kolom\n",
    "print(df.dtypes)\n",
    "# Memeriksa nilai yang hilang\n",
    "print(df.isnull().sum())\n",
    "# Deskripsi statistik dasar\n",
    "print(df.describe(include='all'))\n"
   ]
  }
 ],
 "metadata": {
  "kernelspec": {
   "display_name": "Python 3",
   "language": "python",
   "name": "python3"
  },
  "language_info": {
   "codemirror_mode": {
    "name": "ipython",
    "version": 3
   },
   "file_extension": ".py",
   "mimetype": "text/x-python",
   "name": "python",
   "nbconvert_exporter": "python",
   "pygments_lexer": "ipython3",
   "version": "3.11.9"
  }
 },
 "nbformat": 4,
 "nbformat_minor": 2
}
